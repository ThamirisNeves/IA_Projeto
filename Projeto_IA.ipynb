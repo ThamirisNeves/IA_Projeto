{
  "nbformat": 4,
  "nbformat_minor": 0,
  "metadata": {
    "colab": {
      "name": "Projeto_IA.ipynb",
      "provenance": [],
      "authorship_tag": "ABX9TyOyTsyKUMhyY1QwgxNMpWjm",
      "include_colab_link": true
    },
    "kernelspec": {
      "name": "python3",
      "display_name": "Python 3"
    },
    "language_info": {
      "name": "python"
    }
  },
  "cells": [
    {
      "cell_type": "markdown",
      "metadata": {
        "id": "view-in-github",
        "colab_type": "text"
      },
      "source": [
        "<a href=\"https://colab.research.google.com/github/ThamirisNeves/IA_Projeto/blob/main/Projeto_IA.ipynb\" target=\"_parent\"><img src=\"https://colab.research.google.com/assets/colab-badge.svg\" alt=\"Open In Colab\"/></a>"
      ]
    },
    {
      "cell_type": "code",
      "metadata": {
        "id": "ZASBgzHH3rIS"
      },
      "source": [
        ""
      ],
      "execution_count": null,
      "outputs": []
    },
    {
      "cell_type": "markdown",
      "metadata": {
        "id": "7Xl9eL3331It"
      },
      "source": [
        "# [Re] Physics-guided Neural Networks (PGNN): An Application in Lake Temperature Modeling\n",
        "\n",
        "### Autores de reprodução \n",
        "[Richard Costa](https://), [Thamiris Neves](https://github.com/ThamirisNeves/) \n",
        "\n",
        "\n",
        "\n",
        "\"Nos últimos anos, em um esforço para incorporar modelos físicos em conjunto com redes neurais, pesquisadores vem propondo a integração de elementos dos modelos físicos na função de custo ou em outros componentes de redes neurais, no que alguns autores chamam de 'aprendizado de máquina informado por física'. No artigo original, os autores utilizam uma arquitetura de perceptron multicamada para fazer a regressão da temperatura de dois lagos e comparam os resultados obtidos com máquina de vetores de suporte (SVM) e LSBoost. Em nossa análise consideramos dois aspectos como importantes: efeitos de algoritmos mais simples que os implementados e efeitos do uso de outro tipo de rede neural. Para tal, implementamos e analisamos a eficácia de algoritmos de regressão mais simples como também de uma rede neural convolucional para o problema da temperatura de lagos.\""
      ]
    }
  ]
}